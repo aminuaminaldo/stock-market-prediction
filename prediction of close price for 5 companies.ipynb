{
 "cells": [
  {
   "cell_type": "code",
   "execution_count": 4,
   "id": "acda7514-4cc9-41f9-a782-4b36c68fbd61",
   "metadata": {},
   "outputs": [
    {
     "name": "stdout",
     "output_type": "stream",
     "text": [
      "Accuracy for Processed_S&P.csv: 0.58\n",
      "Accuracy for Processed_RUSSELL.csv: 0.55\n",
      "Accuracy for Processed_NYSE.csv: 0.54\n",
      "Accuracy for Processed_NASDAQ.csv: 0.59\n",
      "Accuracy for Processed_DJI.csv: 0.58\n"
     ]
    }
   ],
   "source": [
    "import pandas as pd\n",
    "from sklearn.model_selection import train_test_split\n",
    "from sklearn.linear_model import LogisticRegression\n",
    "from sklearn.impute import SimpleImputer\n",
    "from sklearn.metrics import accuracy_score, classification_report\n",
    "\n",
    "# Load and preprocess data for each stock index (replace with actual file paths)\n",
    "file_paths = [\n",
    "    'Processed_S&P.csv',\n",
    "    'Processed_RUSSELL.csv',\n",
    "    'Processed_NYSE.csv',\n",
    "    'Processed_NASDAQ.csv',\n",
    "    'Processed_DJI.csv'\n",
    "]\n",
    "\n",
    "# Define the target variable ('Price_Up') as binary (1 if price goes up, 0 if it goes down)\n",
    "selected_features = [\n",
    "    'Volume', 'mom', 'mom1', 'mom2', 'mom3', 'DTB4WK', 'DTB3', 'DTB6', 'DGS5', 'DGS10'\n",
    "]\n",
    "\n",
    "test_size = 0.2\n",
    "random_state = 42\n",
    "\n",
    "for file_path in file_paths:\n",
    "    # Load data\n",
    "    data = pd.read_csv(file_path)\n",
    "\n",
    "    # Create a binary target variable indicating if the price goes up (1) or down (0)\n",
    "    data['Price_Up'] = (data['Close'].shift(-1) > data['Close']).astype(int)\n",
    "\n",
    "    # Select features and target variable\n",
    "    X = data[selected_features]\n",
    "    y = data['Price_Up']\n",
    "\n",
    "    # Split the data into training and testing sets\n",
    "    X_train, X_test, y_train, y_test = train_test_split(X, y, test_size=test_size, random_state=random_state)\n",
    "\n",
    "    # Create an imputer to fill missing values with the mean\n",
    "    imputer = SimpleImputer(strategy='mean')\n",
    "\n",
    "    # Fit and transform the imputer on your feature data\n",
    "    X_train = imputer.fit_transform(X_train)\n",
    "    X_test = imputer.transform(X_test)\n",
    "\n",
    "    # Create and train a Logistic Regression model\n",
    "    model = LogisticRegression()\n",
    "    model.fit(X_train, y_train)\n",
    "\n",
    "    # Make predictions on the testing data\n",
    "    y_pred = model.predict(X_test)\n",
    "\n",
    "    # Evaluate the model\n",
    "    accuracy = accuracy_score(y_test, y_pred)\n",
    "    print(f'Accuracy for {file_path}: {accuracy:.2f}')\n",
    "    # print(classification_report(y_test, y_pred, zero_division=0))  # Set zero_division to 0 to suppress the warning\n"
   ]
  },
  {
   "cell_type": "code",
   "execution_count": null,
   "id": "6cad2307-e573-4626-a16f-353c71c8f248",
   "metadata": {},
   "outputs": [],
   "source": []
  }
 ],
 "metadata": {
  "kernelspec": {
   "display_name": "Python 3 (ipykernel)",
   "language": "python",
   "name": "python3"
  },
  "language_info": {
   "codemirror_mode": {
    "name": "ipython",
    "version": 3
   },
   "file_extension": ".py",
   "mimetype": "text/x-python",
   "name": "python",
   "nbconvert_exporter": "python",
   "pygments_lexer": "ipython3",
   "version": "3.10.0"
  }
 },
 "nbformat": 4,
 "nbformat_minor": 5
}
